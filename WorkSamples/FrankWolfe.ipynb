{
 "cells": [
  {
   "cell_type": "code",
   "execution_count": 1,
   "metadata": {},
   "outputs": [],
   "source": [
    "#import modules\n",
    "from sympy import *"
   ]
  },
  {
   "cell_type": "code",
   "execution_count": 2,
   "metadata": {},
   "outputs": [],
   "source": [
    "# Define function for the travel time on each link\n",
    "def link_tt_fun(V):\n",
    "    T = [0,0,0,0,0,0]\n",
    "    T[0] = 1 + 0.3*(V[0])\n",
    "    T[1] = 1 + 0.3*(V[1])\n",
    "    T[2] = 1 + 0.3*(V[2])\n",
    "    T[3] = 3 + 0.25*(V[3])\n",
    "    T[4] = 4 + 0.25*(V[4])\n",
    "    T[5] = 10 + (V[5])\n",
    "    return T"
   ]
  },
  {
   "cell_type": "code",
   "execution_count": 3,
   "metadata": {},
   "outputs": [],
   "source": [
    "# Define function for origin a path travel times\n",
    "def path_a_tt_fun(T):\n",
    "    path_a_tt = [0,0]\n",
    "    \n",
    "    path_a_tt[0] = T[0] + T[2]\n",
    "    path_a_tt[1] = T[3]\n",
    "    \n",
    "    return path_a_tt"
   ]
  },
  {
   "cell_type": "code",
   "execution_count": 4,
   "metadata": {},
   "outputs": [],
   "source": [
    "# Define function for origin b path travel times\n",
    "def path_b_tt_fun(T):\n",
    "    path_b_tt = [0,0,0,0]\n",
    "    \n",
    "    path_b_tt[0] = T[5] + T[0] + T[2]\n",
    "    path_b_tt[1] = T[5] + T[3]\n",
    "    path_b_tt[2] = T[1] + T[2]\n",
    "    path_b_tt[3] = T[4]\n",
    "    \n",
    "    return path_b_tt"
   ]
  },
  {
   "cell_type": "code",
   "execution_count": 5,
   "metadata": {},
   "outputs": [],
   "source": [
    "# Define function for the index of minimum total travel time\n",
    "def min_path_tt(T):\n",
    "    minpos = T.index(min(T)) \n",
    "    \n",
    "    return minpos"
   ]
  },
  {
   "cell_type": "code",
   "execution_count": 6,
   "metadata": {},
   "outputs": [],
   "source": [
    "# define a function to assign traffic\n",
    "def all_or_nothing(route, x):\n",
    "    \n",
    "    path = [0,0,0,0,0,0]\n",
    "\n",
    "    if route == '13':\n",
    "        path = [x,0,x,0,0,0]\n",
    "    elif route == '4':\n",
    "        path = [0,0,0,x,0,0]\n",
    "    elif route == '613':\n",
    "        path = [x,0,x,0,0,x]\n",
    "    elif route == '64':\n",
    "        path = [0,0,0,x,0,x]\n",
    "    elif route == '23':\n",
    "        path = [0,x,x,0,0,0]\n",
    "    elif route == '5':\n",
    "        path = [0,0,0,0,x,0]\n",
    "    \n",
    "    return path"
   ]
  },
  {
   "cell_type": "code",
   "execution_count": 7,
   "metadata": {},
   "outputs": [],
   "source": [
    "# Define a function to find the total flow on the network\n",
    "def network_flow(vx,vy):\n",
    "    V = [0,0,0,0,0,0]\n",
    "    for i in range(len(V)):\n",
    "        V[i] = vx[i] + vy[i]\n",
    "    return V"
   ]
  },
  {
   "cell_type": "code",
   "execution_count": 8,
   "metadata": {},
   "outputs": [],
   "source": [
    "# a function for a vector V12 = V1 + r(V2-V1)\n",
    "def vector_12(vx, vy):\n",
    "    V = [0,0,0,0,0,0]\n",
    "    r = Symbol('r')\n",
    "    for i in range(len(V)):\n",
    "        V[i] = vx[i] + r*(vy[i]-vx[i])\n",
    "    return V"
   ]
  },
  {
   "cell_type": "code",
   "execution_count": 9,
   "metadata": {},
   "outputs": [],
   "source": [
    "# define integratal function\n",
    "def integral(T,V):\n",
    "    integrals = [0,0,0,0,0,0]\n",
    "    for i in range(len(V)):\n",
    "        integrand = T[i]\n",
    "        ans = integrate(integrand, (w, 0, V[i]), meijerg=False)\n",
    "        integrals[i] = ans\n",
    "    return integrals"
   ]
  },
  {
   "cell_type": "code",
   "execution_count": 10,
   "metadata": {},
   "outputs": [],
   "source": [
    "# Define function to take the derivative of z\n",
    "def derivative(F):\n",
    "    derivatives = [0,0,0,0,0,0]\n",
    "    for i in range(len(F)):\n",
    "        ans = diff(F[i])\n",
    "        derivatives[i] = ans\n",
    "    return derivatives"
   ]
  },
  {
   "cell_type": "code",
   "execution_count": 11,
   "metadata": {},
   "outputs": [],
   "source": [
    "# define a function for substituting theta into r for V12\n",
    "def substitute(V,x):\n",
    "    r = Symbol('r')\n",
    "    new_V = [0,0,0,0,0,0]\n",
    "    for i in range(len(V)):\n",
    "        func = V[i]\n",
    "        y = func.subs(r,x)\n",
    "        new_V[i] = y\n",
    "    return new_V"
   ]
  },
  {
   "cell_type": "code",
   "execution_count": 12,
   "metadata": {},
   "outputs": [],
   "source": [
    "# PART 1 DETERMINISTIC USER EQUILLIBRIUM"
   ]
  },
  {
   "cell_type": "code",
   "execution_count": 13,
   "metadata": {},
   "outputs": [],
   "source": [
    "# Create lists and variables\n",
    "a = 5\n",
    "b = 5\n",
    "\n",
    "# Link ID\n",
    "link_ids = [0,1,2,3,4,5]\n",
    "\n",
    "# Path ID\n",
    "path_a_ids = ['13','4']\n",
    "path_b_ids = ['613', '64', '23', '5']"
   ]
  },
  {
   "cell_type": "code",
   "execution_count": 14,
   "metadata": {},
   "outputs": [],
   "source": [
    "# performance functions with flow as a variable\n",
    "w = Symbol('w')\n",
    "per_fun = [1 + 0.3*w, 1 + 0.3*w, 1 + 0.3*w, 3 + 0.25*w, 4 + 0.25*w, 10 + 0.25*w]"
   ]
  },
  {
   "cell_type": "code",
   "execution_count": 15,
   "metadata": {},
   "outputs": [],
   "source": [
    "# Initialize the network with free flow speeds\n",
    "V_initial = [0,0,0,0,0,0]\n",
    "T_initial = link_tt_fun(V_initial)"
   ]
  },
  {
   "cell_type": "code",
   "execution_count": 16,
   "metadata": {},
   "outputs": [
    {
     "data": {
      "text/plain": [
       "[1.0, 1.0, 1.0, 3.0, 4.0, 10]"
      ]
     },
     "execution_count": 16,
     "metadata": {},
     "output_type": "execute_result"
    }
   ],
   "source": [
    "T_initial"
   ]
  },
  {
   "cell_type": "code",
   "execution_count": 17,
   "metadata": {},
   "outputs": [],
   "source": [
    "# Find the path travel times\n",
    "path_a_tt = path_a_tt_fun(T_initial)\n",
    "path_b_tt = path_b_tt_fun(T_initial)"
   ]
  },
  {
   "cell_type": "code",
   "execution_count": 18,
   "metadata": {},
   "outputs": [],
   "source": [
    "# Find the index of the minimum total travel time\n",
    "min_a = min_path_tt(path_a_tt)\n",
    "min_b = min_path_tt(path_b_tt)\n",
    "\n",
    "# Name the route the vehicles will take\n",
    "route_a = path_a_ids[min_a]\n",
    "route_b = path_b_ids[min_b]"
   ]
  },
  {
   "cell_type": "code",
   "execution_count": 19,
   "metadata": {},
   "outputs": [],
   "source": [
    "# Find the path vehicles will go\n",
    "V_a = all_or_nothing(route_a, a)\n",
    "V_b = all_or_nothing(route_b, b)"
   ]
  },
  {
   "cell_type": "code",
   "execution_count": 20,
   "metadata": {},
   "outputs": [
    {
     "name": "stdout",
     "output_type": "stream",
     "text": [
      "The initial flow on link  1  assuming free flow travel times is  5\n",
      "The initial flow on link  2  assuming free flow travel times is  5\n",
      "The initial flow on link  3  assuming free flow travel times is  10\n",
      "The initial flow on link  4  assuming free flow travel times is  0\n",
      "The initial flow on link  5  assuming free flow travel times is  0\n",
      "The initial flow on link  6  assuming free flow travel times is  0\n"
     ]
    }
   ],
   "source": [
    "# Assign the traffic to the network\n",
    "V0 = network_flow(V_a, V_b)\n",
    "for i in range(len(V0)):\n",
    "    print(\"The initial flow on link \", i+1, \" assuming free flow travel times is \", V0[i])"
   ]
  },
  {
   "cell_type": "code",
   "execution_count": 21,
   "metadata": {},
   "outputs": [],
   "source": [
    "# Calculate the new travel times\n",
    "T0 = link_tt_fun(V0)"
   ]
  },
  {
   "cell_type": "code",
   "execution_count": 22,
   "metadata": {},
   "outputs": [
    {
     "name": "stdout",
     "output_type": "stream",
     "text": [
      "The new flow on link  1  with travel times based on previous link flow is  0\n",
      "The new flow on link  2  with travel times based on previous link flow is  0\n",
      "The new flow on link  3  with travel times based on previous link flow is  0\n",
      "The new flow on link  4  with travel times based on previous link flow is  5\n",
      "The new flow on link  5  with travel times based on previous link flow is  5\n",
      "The new flow on link  6  with travel times based on previous link flow is  0\n"
     ]
    }
   ],
   "source": [
    "# Perform another all of nothing using T0\n",
    "path_a_tt = path_a_tt_fun(T0)\n",
    "path_b_tt = path_b_tt_fun(T0)\n",
    "\n",
    "min_a = min_path_tt(path_a_tt)\n",
    "min_b = min_path_tt(path_b_tt)\n",
    "\n",
    "route_a = path_a_ids[min_a]\n",
    "route_b = path_b_ids[min_b]\n",
    "\n",
    "V_a = all_or_nothing(route_a, a)\n",
    "V_b = all_or_nothing(route_b, b)\n",
    "\n",
    "V1 = network_flow(V_a, V_b)\n",
    "\n",
    "for i in range(len(V1)):\n",
    "    print(\"The new flow on link \", i+1, \" with travel times based on previous link flow is \", V1[i])"
   ]
  },
  {
   "cell_type": "code",
   "execution_count": 23,
   "metadata": {},
   "outputs": [],
   "source": [
    "# Calculate the new travel times\n",
    "T1 = link_tt_fun(V1)"
   ]
  },
  {
   "cell_type": "code",
   "execution_count": 24,
   "metadata": {},
   "outputs": [
    {
     "name": "stdout",
     "output_type": "stream",
     "text": [
      "The new flow on link  1  with travel times based on previous link flow is  5\n",
      "The new flow on link  2  with travel times based on previous link flow is  5\n",
      "The new flow on link  3  with travel times based on previous link flow is  10\n",
      "The new flow on link  4  with travel times based on previous link flow is  0\n",
      "The new flow on link  5  with travel times based on previous link flow is  0\n",
      "The new flow on link  6  with travel times based on previous link flow is  0\n"
     ]
    }
   ],
   "source": [
    "# Perform another all of nothing using T1\n",
    "path_a_tt = path_a_tt_fun(T1)\n",
    "path_b_tt = path_b_tt_fun(T1)\n",
    "\n",
    "min_a = min_path_tt(path_a_tt)\n",
    "min_b = min_path_tt(path_b_tt)\n",
    "\n",
    "route_a = path_a_ids[min_a]\n",
    "route_b = path_b_ids[min_b]\n",
    "\n",
    "V_a = all_or_nothing(route_a, a)\n",
    "V_b = all_or_nothing(route_b, b)\n",
    "\n",
    "V2 = network_flow(V_a, V_b)\n",
    "for i in range(len(V2)):\n",
    "    print(\"The new flow on link \", i+1, \" with travel times based on previous link flow is \", V2[i])"
   ]
  },
  {
   "cell_type": "code",
   "execution_count": 25,
   "metadata": {},
   "outputs": [],
   "source": [
    "# Calculate the new travel times\n",
    "T2 = link_tt_fun(V2)"
   ]
  },
  {
   "cell_type": "code",
   "execution_count": 26,
   "metadata": {},
   "outputs": [],
   "source": [
    "# Create the vector12\n",
    "V12 = vector_12(V1, V2)"
   ]
  },
  {
   "cell_type": "code",
   "execution_count": 27,
   "metadata": {},
   "outputs": [],
   "source": [
    "# Integrate the performance functions\n",
    "integrals = integral(per_fun, V12)"
   ]
  },
  {
   "cell_type": "code",
   "execution_count": 28,
   "metadata": {},
   "outputs": [],
   "source": [
    "# Find the derivatives of the performance functions\n",
    "derivatives = derivative(integrals)"
   ]
  },
  {
   "cell_type": "code",
   "execution_count": 29,
   "metadata": {},
   "outputs": [],
   "source": [
    "# Sum the derivatives\n",
    "function = sum(derivatives) "
   ]
  },
  {
   "cell_type": "code",
   "execution_count": 30,
   "metadata": {},
   "outputs": [
    {
     "name": "stdout",
     "output_type": "stream",
     "text": [
      "The combination of the flows on link  1  that minimizes the DUE objective function is  2.3913\n",
      "The combination of the flows on link  2  that minimizes the DUE objective function is  2.3913\n",
      "The combination of the flows on link  3  that minimizes the DUE objective function is  4.7826\n",
      "The combination of the flows on link  4  that minimizes the DUE objective function is  2.6087\n",
      "The combination of the flows on link  5  that minimizes the DUE objective function is  2.6087\n",
      "The combination of the flows on link  6  that minimizes the DUE objective function is  0.0\n"
     ]
    }
   ],
   "source": [
    "# Solve for r when this equals 0\n",
    "theta = solve(function)[0]\n",
    "\n",
    "# Solve for the combination of flows that minimizes the DUE objective function\n",
    "V12_theta = substitute(V12,theta)\n",
    "for i in range(len(V12_theta)):\n",
    "    print(\"The combination of the flows on link \", i+1, \" that minimizes the DUE objective function is \", round(V12_theta[i], 4))"
   ]
  },
  {
   "cell_type": "code",
   "execution_count": 31,
   "metadata": {},
   "outputs": [],
   "source": [
    "# When theta equals 0 stop\n",
    "iterations = 1\n",
    "while theta != 0:\n",
    "    \n",
    "    # evaluate V12 at r=theta\n",
    "    V12_theta = substitute(V12,theta)\n",
    "    \n",
    "    # Set V1 equal to V12(theta)\n",
    "    V1 = V12_theta\n",
    "    \n",
    "    # Resolve for T1\n",
    "    T1 = link_tt_fun(V1)\n",
    "    \n",
    "    # Repeat step 4 performing an all or\n",
    "    # nothing shortest path traffic assignment\n",
    "    # using T1\n",
    "    path_a_tt = path_a_tt_fun(T1)\n",
    "    path_b_tt = path_b_tt_fun(T1)\n",
    "\n",
    "    min_a = min_path_tt(path_a_tt)\n",
    "    min_b = min_path_tt(path_b_tt)\n",
    "\n",
    "    route_a = path_a_ids[min_a]\n",
    "    route_b = path_b_ids[min_b]\n",
    "\n",
    "    V_a = all_or_nothing(route_a, a)\n",
    "    V_b = all_or_nothing(route_b, b)\n",
    "\n",
    "    V2 = network_flow(V_a, V_b)\n",
    "    \n",
    "    # Calculate the new travel times\n",
    "    T2 = link_tt_fun(V2)\n",
    "    \n",
    "    # Define a vector V12\n",
    "    V12 = vector_12(V1, V2)\n",
    "    \n",
    "    # Integrate the performance functions\n",
    "    integrals = integral(per_fun, V12)\n",
    "    \n",
    "    # Find the derivatives of the performance functions\n",
    "    derivatives = derivative(integrals)\n",
    "    \n",
    "    # Sum the derivatives\n",
    "    function = sum(derivatives)\n",
    "    \n",
    "    # Solve for r when this equals 0\n",
    "    theta = solve(function)[0]\n",
    "    \n",
    "    iterations+=1"
   ]
  },
  {
   "cell_type": "code",
   "execution_count": 32,
   "metadata": {},
   "outputs": [
    {
     "name": "stdout",
     "output_type": "stream",
     "text": [
      "The flow on link  1  is  1.4822\n",
      "The flow on link  2  is  3.3004\n",
      "The flow on link  3  is  4.7826\n",
      "The flow on link  4  is  3.5178\n",
      "The flow on link  5  is  1.6996\n",
      "The flow on link  6  is  0.0\n",
      "Travellers originating at A have a travel time of  3.8794\n",
      "Travellers originating at B have a travel time of  4.4249\n"
     ]
    }
   ],
   "source": [
    "# Solution\n",
    "V_solution = V1\n",
    "T_solution = T1\n",
    "for i in range(len(link_ids)):\n",
    "    V_solution[i] = round(V_solution[i],4)\n",
    "    T_solution[i] = round(T_solution[i],4)\n",
    "    print (\"The flow on link \", i+1, \" is \", V_solution[i])\n",
    "\n",
    "path_a_tt = min(path_a_tt_fun(T1))\n",
    "path_b_tt = min(path_b_tt_fun(T1))\n",
    "print (\"Travellers originating at A have a travel time of \", path_a_tt)\n",
    "print (\"Travellers originating at B have a travel time of \", path_b_tt)"
   ]
  },
  {
   "cell_type": "code",
   "execution_count": 33,
   "metadata": {},
   "outputs": [],
   "source": [
    "# PART 2 SYSTEM OPTIMAL"
   ]
  },
  {
   "cell_type": "code",
   "execution_count": 34,
   "metadata": {},
   "outputs": [],
   "source": [
    "# Initialize the network with free flow speeds\n",
    "V_initial = [0,0,0,0,0,0]"
   ]
  },
  {
   "cell_type": "code",
   "execution_count": 35,
   "metadata": {},
   "outputs": [],
   "source": [
    "# derivatives of performance functions\n",
    "der_per_fun = [0.3, 0.3, 0.3, 0.25, 0.25, 0.25]"
   ]
  },
  {
   "cell_type": "code",
   "execution_count": 36,
   "metadata": {},
   "outputs": [],
   "source": [
    "# Calculate marginal costs on each link\n",
    "TT = link_tt_fun(V_initial)\n",
    "mar_comp = [0,0,0,0,0,0]\n",
    "mar_cost = [0,0,0,0,0,0]\n",
    "for i in range(len(mar_comp)):\n",
    "    mar_comp[i] = der_per_fun[i] * V_initial[i]\n",
    "    mar_cost[i] = mar_comp[i] + TT[i]"
   ]
  },
  {
   "cell_type": "code",
   "execution_count": 37,
   "metadata": {},
   "outputs": [],
   "source": [
    "# Find the path travel times\n",
    "path_a_tt = path_a_tt_fun(mar_cost)\n",
    "path_b_tt = path_b_tt_fun(mar_cost)"
   ]
  },
  {
   "cell_type": "code",
   "execution_count": 38,
   "metadata": {},
   "outputs": [],
   "source": [
    "# Find the index of the minimum total travel time\n",
    "min_a = min_path_tt(path_a_tt)\n",
    "min_b = min_path_tt(path_b_tt)\n",
    "\n",
    "# Name the route the vehicles will take\n",
    "route_a = path_a_ids[min_a]\n",
    "route_b = path_b_ids[min_b]"
   ]
  },
  {
   "cell_type": "code",
   "execution_count": 39,
   "metadata": {},
   "outputs": [],
   "source": [
    "# Find the path vehicles will go\n",
    "V_a = all_or_nothing(route_a, a)\n",
    "V_b = all_or_nothing(route_b, b)"
   ]
  },
  {
   "cell_type": "code",
   "execution_count": 40,
   "metadata": {},
   "outputs": [
    {
     "name": "stdout",
     "output_type": "stream",
     "text": [
      "The initial flow on link  1  assuming free flow travel times is  5\n",
      "The initial flow on link  2  assuming free flow travel times is  5\n",
      "The initial flow on link  3  assuming free flow travel times is  10\n",
      "The initial flow on link  4  assuming free flow travel times is  0\n",
      "The initial flow on link  5  assuming free flow travel times is  0\n",
      "The initial flow on link  6  assuming free flow travel times is  0\n"
     ]
    }
   ],
   "source": [
    "# Assign the traffic to the network\n",
    "V0 = network_flow(V_a, V_b)\n",
    "for i in range(len(V0)):\n",
    "    print(\"The initial flow on link \", i+1, \" assuming free flow travel times is \", V0[i])"
   ]
  },
  {
   "cell_type": "code",
   "execution_count": 41,
   "metadata": {},
   "outputs": [],
   "source": [
    "# Calculate new marginal costs on each link\n",
    "TT = link_tt_fun(V0)\n",
    "mar_comp = [0,0,0,0,0,0]\n",
    "mc0 = [0,0,0,0,0,0]\n",
    "for i in range(len(mar_comp)):\n",
    "    mar_comp[i] = der_per_fun[i] * V0[i]\n",
    "    mc0[i] = mar_comp[i] + TT[i]"
   ]
  },
  {
   "cell_type": "code",
   "execution_count": 42,
   "metadata": {},
   "outputs": [
    {
     "name": "stdout",
     "output_type": "stream",
     "text": [
      "The new flow on link  1  with travel times based on previous link flow is  0\n",
      "The new flow on link  2  with travel times based on previous link flow is  0\n",
      "The new flow on link  3  with travel times based on previous link flow is  0\n",
      "The new flow on link  4  with travel times based on previous link flow is  5\n",
      "The new flow on link  5  with travel times based on previous link flow is  5\n",
      "The new flow on link  6  with travel times based on previous link flow is  0\n"
     ]
    }
   ],
   "source": [
    "# Perform another all of nothing using mc00\n",
    "path_a_tt = path_a_tt_fun(mc0)\n",
    "path_b_tt = path_b_tt_fun(mc0)\n",
    "\n",
    "min_a = min_path_tt(path_a_tt)\n",
    "min_b = min_path_tt(path_b_tt)\n",
    "\n",
    "route_a = path_a_ids[min_a]\n",
    "route_b = path_b_ids[min_b]\n",
    "\n",
    "V_a = all_or_nothing(route_a, a)\n",
    "V_b = all_or_nothing(route_b, b)\n",
    "\n",
    "V1 = network_flow(V_a, V_b)\n",
    "for i in range(len(V1)):\n",
    "    print(\"The new flow on link \", i+1, \" with travel times based on previous link flow is \", V1[i])"
   ]
  },
  {
   "cell_type": "code",
   "execution_count": 43,
   "metadata": {},
   "outputs": [],
   "source": [
    "# Calculate new marginal costs on each link\n",
    "TT = link_tt_fun(V1)\n",
    "mar_comp = [0,0,0,0,0,0]\n",
    "mc1 = [0,0,0,0,0,0]\n",
    "for i in range(len(mar_comp)):\n",
    "    mar_comp[i] = der_per_fun[i] * V1[i]\n",
    "    mc1[i] = mar_comp[i] + TT[i]"
   ]
  },
  {
   "cell_type": "code",
   "execution_count": 44,
   "metadata": {},
   "outputs": [
    {
     "name": "stdout",
     "output_type": "stream",
     "text": [
      "The new flow on link  1  with travel times based on previous link flow is  5\n",
      "The new flow on link  2  with travel times based on previous link flow is  5\n",
      "The new flow on link  3  with travel times based on previous link flow is  10\n",
      "The new flow on link  4  with travel times based on previous link flow is  0\n",
      "The new flow on link  5  with travel times based on previous link flow is  0\n",
      "The new flow on link  6  with travel times based on previous link flow is  0\n"
     ]
    }
   ],
   "source": [
    "# Perform another all of nothing using mc1\n",
    "path_a_tt = path_a_tt_fun(mc1)\n",
    "path_b_tt = path_b_tt_fun(mc1)\n",
    "\n",
    "min_a = min_path_tt(path_a_tt)\n",
    "min_b = min_path_tt(path_b_tt)\n",
    "\n",
    "route_a = path_a_ids[min_a]\n",
    "route_b = path_b_ids[min_b]\n",
    "\n",
    "V_a = all_or_nothing(route_a, a)\n",
    "V_b = all_or_nothing(route_b, b)\n",
    "\n",
    "V2 = network_flow(V_a, V_b)\n",
    "for i in range(len(V2)):\n",
    "    print(\"The new flow on link \", i+1, \" with travel times based on previous link flow is \", V2[i])"
   ]
  },
  {
   "cell_type": "code",
   "execution_count": 45,
   "metadata": {},
   "outputs": [],
   "source": [
    "# Calculate new marginal costs on each link\n",
    "TT = link_tt_fun(V2)\n",
    "mar_comp = [0,0,0,0,0,0]\n",
    "mc2 = [0,0,0,0,0,0]\n",
    "for i in range(len(mar_comp)):\n",
    "    mar_comp[i] = der_per_fun[i] * V2[i]\n",
    "    mc2[i] = mar_comp[i] + TT[i]"
   ]
  },
  {
   "cell_type": "code",
   "execution_count": 46,
   "metadata": {},
   "outputs": [],
   "source": [
    "# Create the vector12\n",
    "V12 = vector_12(V1, V2)"
   ]
  },
  {
   "cell_type": "code",
   "execution_count": 47,
   "metadata": {},
   "outputs": [],
   "source": [
    "# plug the vector V12 into the performance functions\n",
    "per_fun_solved = [0,0,0,0,0,0]\n",
    "for i in range(len(V12)):\n",
    "    w = Symbol('w')\n",
    "    v = V12[i]\n",
    "    per_fun_solved[i] = per_fun[i].subs(w,v)"
   ]
  },
  {
   "cell_type": "code",
   "execution_count": 48,
   "metadata": {},
   "outputs": [],
   "source": [
    "# Multiple the performance functions by V12\n",
    "to_be_summed = [0,0,0,0,0,0]\n",
    "for i in range(len(V12)):\n",
    "    w = Symbol('w')\n",
    "    v = V12[i]\n",
    "    to_be_summed[i] = per_fun_solved[i]*V12[i]"
   ]
  },
  {
   "cell_type": "code",
   "execution_count": 49,
   "metadata": {},
   "outputs": [],
   "source": [
    "# Sum the functions\n",
    "function = sum(to_be_summed)"
   ]
  },
  {
   "cell_type": "code",
   "execution_count": 50,
   "metadata": {},
   "outputs": [],
   "source": [
    "# optimize the function\n",
    "derivative = diff(function)"
   ]
  },
  {
   "cell_type": "code",
   "execution_count": 51,
   "metadata": {},
   "outputs": [
    {
     "name": "stdout",
     "output_type": "stream",
     "text": [
      "The combination of the flows on link  1  that minimizes the DUE objective function is  1.7391\n",
      "The combination of the flows on link  2  that minimizes the DUE objective function is  1.7391\n",
      "The combination of the flows on link  3  that minimizes the DUE objective function is  3.4783\n",
      "The combination of the flows on link  4  that minimizes the DUE objective function is  3.2609\n",
      "The combination of the flows on link  5  that minimizes the DUE objective function is  3.2609\n",
      "The combination of the flows on link  6  that minimizes the DUE objective function is  0.0\n"
     ]
    }
   ],
   "source": [
    "# Solve for theta\n",
    "theta = solve(derivative)[0]\n",
    "\n",
    "# Solve for the combination of flows that minimizes the DUE objective function\n",
    "V12_theta = substitute(V12,theta)\n",
    "for i in range(len(V12_theta)):\n",
    "    print(\"The combination of the flows on link \", i+1, \" that minimizes the DUE objective function is \", round(V12_theta[i], 4))"
   ]
  },
  {
   "cell_type": "code",
   "execution_count": 52,
   "metadata": {},
   "outputs": [],
   "source": [
    "# When theta equals 0 stop\n",
    "iterations = 1\n",
    "while theta > 0.000000000001:\n",
    "    \n",
    "    # evaluate V12 at r=theta\n",
    "    V12_theta = substitute(V12,theta)\n",
    "\n",
    "    \n",
    "    # Set V1 equal to V12(theta)\n",
    "    V1 = V12_theta\n",
    "    \n",
    "    # Calculate new marginal costs on each link\n",
    "    TT1 = link_tt_fun(V1)\n",
    "    mar_comp = [0,0,0,0,0,0]\n",
    "    mc1 = [0,0,0,0,0,0]\n",
    "    for i in range(len(mar_comp)):\n",
    "        mar_comp[i] = der_per_fun[i] * V1[i]\n",
    "        mc1[i] = mar_comp[i] + TT1[i]\n",
    "    \n",
    "    # Repeat step 4 performing an all or\n",
    "    # nothing shortest path traffic assignment\n",
    "    # using T1\n",
    "    path_a_tt = path_a_tt_fun(mc1)\n",
    "    path_b_tt = path_b_tt_fun(mc1)\n",
    "\n",
    "    min_a = min_path_tt(path_a_tt)\n",
    "    min_b = min_path_tt(path_b_tt)\n",
    "\n",
    "    route_a = path_a_ids[min_a]\n",
    "    route_b = path_b_ids[min_b]\n",
    "\n",
    "    V_a = all_or_nothing(route_a, a)\n",
    "    V_b = all_or_nothing(route_b, b)\n",
    "\n",
    "    V2 = network_flow(V_a, V_b)\n",
    "\n",
    "    # Calculate new marginal costs on each link\n",
    "    TT2 = link_tt_fun(V2)\n",
    "    mar_comp = [0,0,0,0,0,0]\n",
    "    mc2 = [0,0,0,0,0,0]\n",
    "    for i in range(len(mar_comp)):\n",
    "        mar_comp[i] = der_per_fun[i] * V2[i]\n",
    "        mc2[i] = mar_comp[i] + TT2[i]\n",
    "    \n",
    "    # Define a vector V12\n",
    "    V12 = vector_12(V1, V2)\n",
    "    \n",
    "    # plug the vector V12 into the performance functions\n",
    "    per_fun_solved = [0,0,0,0,0,0]\n",
    "    for i in range(len(V12)):\n",
    "        w = Symbol('w')\n",
    "        v = V12[i]\n",
    "        per_fun_solved[i] = per_fun[i].subs(w,v)\n",
    "        \n",
    "    # Multiple the performance functions by V12\n",
    "    to_be_summed = [0,0,0,0,0,0]\n",
    "    for i in range(len(V12)):\n",
    "        w = Symbol('w')\n",
    "        v = V12[i]\n",
    "        to_be_summed[i] = per_fun_solved[i]*V12[i]\n",
    "    \n",
    "    # Sum the functions\n",
    "    function = sum(to_be_summed)\n",
    "    \n",
    "    # optimize the function\n",
    "    derivative = diff(function)\n",
    "    \n",
    "    # Solve for theta\n",
    "    theta = solve(derivative)[0]\n",
    "    \n",
    "    iterations+=1"
   ]
  },
  {
   "cell_type": "code",
   "execution_count": 53,
   "metadata": {},
   "outputs": [
    {
     "name": "stdout",
     "output_type": "stream",
     "text": [
      "The flow on link  1  is  1.2846\n",
      "The flow on link  2  is  2.1937\n",
      "The flow on link  3  is  3.4783\n",
      "The flow on link  4  is  3.7154\n",
      "The flow on link  5  is  2.8063\n",
      "The flow on link  6  is  0.0\n",
      "Travellers originating at A have a travel time of  3.4289\n",
      "Travellers originating at B have a travel time of  3.7016\n"
     ]
    }
   ],
   "source": [
    "# Solution\n",
    "V_solution = V1\n",
    "T_solution = TT1\n",
    "MT_solution = mc1\n",
    "for i in range(len(link_ids)):\n",
    "    V_solution[i] = round(V_solution[i],4)\n",
    "    T_solution[i] = round(T_solution[i],4)\n",
    "    print (\"The flow on link \", i+1, \" is \", V_solution[i])\n",
    "\n",
    "path_a_tt = round(min(path_a_tt_fun(TT1)),4)\n",
    "path_b_tt = min(path_b_tt_fun(TT1))\n",
    "print (\"Travellers originating at A have a travel time of \", path_a_tt)\n",
    "print (\"Travellers originating at B have a travel time of \", path_b_tt)"
   ]
  },
  {
   "cell_type": "code",
   "execution_count": 54,
   "metadata": {},
   "outputs": [
    {
     "name": "stdout",
     "output_type": "stream",
     "text": [
      "The toll on link  1 is  0.3854\n",
      "The toll on link  2 is  0.6581\n",
      "The toll on link  3 is  1.0435\n",
      "The toll on link  4 is  0.9288\n",
      "The toll on link  5 is  0.7016\n",
      "The toll on link  6 is  0.0\n"
     ]
    }
   ],
   "source": [
    "# Find the tolls by the difference in the marginal times\n",
    "# and actual travel times at system optimal flows\n",
    "tolls = [0,0,0,0,0,0]\n",
    "for i in range(len(tolls)):\n",
    "    tolls[i] = MT_solution[i] - T_solution[i]\n",
    "    print(\"The toll on link \", i+1, \"is \", round(tolls[i], 4))"
   ]
  }
 ],
 "metadata": {
  "kernelspec": {
   "display_name": "Python 3",
   "language": "python",
   "name": "python3"
  },
  "language_info": {
   "codemirror_mode": {
    "name": "ipython",
    "version": 3
   },
   "file_extension": ".py",
   "mimetype": "text/x-python",
   "name": "python",
   "nbconvert_exporter": "python",
   "pygments_lexer": "ipython3",
   "version": "3.7.3"
  }
 },
 "nbformat": 4,
 "nbformat_minor": 2
}
